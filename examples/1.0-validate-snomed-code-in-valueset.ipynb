{
 "cells": [
  {
   "cell_type": "code",
   "execution_count": 1,
   "metadata": {},
   "outputs": [],
   "source": [
    "from fhir_tx_client import SyncFHIRTerminologyClient\n",
    "from fhir_tx_client.data_types import SCTCoding"
   ]
  },
  {
   "cell_type": "code",
   "execution_count": 2,
   "metadata": {},
   "outputs": [],
   "source": [
    "# Create a client\n",
    "client = SyncFHIRTerminologyClient(\"https://tx.fhir.org/r4/\")\n",
    "\n",
    "# load a ValueSet by id\n",
    "vs_food_type = client.ValueSet(id=\"modified-foodtype\")\n",
    "\n",
    "# Create coding based on SNOMED CT code\n",
    "eggs_code = SCTCoding.from_sct_code(\"102263004 |Eggs|\")\n"
   ]
  },
  {
   "cell_type": "code",
   "execution_count": 3,
   "metadata": {},
   "outputs": [
    {
     "data": {
      "text/plain": [
       "{'display': 'Eggs',\n",
       " 'system': 'http://snomed.info/sct',\n",
       " 'code': '102263004',\n",
       " 'result': True}"
      ]
     },
     "execution_count": 3,
     "metadata": {},
     "output_type": "execute_result"
    }
   ],
   "source": [
    "\n",
    "# Validate a code in a ValueSet\n",
    "vs_food_type.validate_code(coding=eggs_code)\n"
   ]
  },
  {
   "cell_type": "code",
   "execution_count": 5,
   "metadata": {},
   "outputs": [],
   "source": [
    "# Bonus - do the same thing (code validation) but in a more pythonic way\n",
    "assert eggs_code in vs_food_type"
   ]
  }
 ],
 "metadata": {
  "kernelspec": {
   "display_name": ".venv",
   "language": "python",
   "name": "python3"
  },
  "language_info": {
   "codemirror_mode": {
    "name": "ipython",
    "version": 3
   },
   "file_extension": ".py",
   "mimetype": "text/x-python",
   "name": "python",
   "nbconvert_exporter": "python",
   "pygments_lexer": "ipython3",
   "version": "3.10.9"
  },
  "orig_nbformat": 4,
  "vscode": {
   "interpreter": {
    "hash": "3b5dd33b164ac68d52b7165bab39416f384fb3dcd7c8dd09a2025a5d51e5cfe9"
   }
  }
 },
 "nbformat": 4,
 "nbformat_minor": 2
}
